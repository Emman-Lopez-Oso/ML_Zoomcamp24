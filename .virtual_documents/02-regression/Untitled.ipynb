import pandas as pd
import numpy as np 


df = pd.read_csv("https://raw.githubusercontent.com/alexeygrigorev/datasets/master/laptops.csv")


df.columns = df.columns.str.lower().str.replace(' ', '_')


df["final_price"].hist()





# Q1 What data is missing?
x_df = df[["ram","storage","screen","final_price"]]
x_df.info()





x_df.ram.median()





np.random.seed(42)


len(df)


n = len(df) 
n_val = n*.2
n_test = n*.2


val = x ()
test = x












