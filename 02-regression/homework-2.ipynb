{
 "cells": [
  {
   "cell_type": "code",
   "execution_count": 1,
   "id": "e210b4d3-c17a-4fcf-93cd-e89c78872a12",
   "metadata": {},
   "outputs": [],
   "source": [
    "import pandas as pd\n",
    "import numpy as np \n",
    "import seaborn as sns\n",
    "import matplotlib as plt"
   ]
  },
  {
   "cell_type": "code",
   "execution_count": 17,
   "id": "6f007123-25df-47f5-832f-ad325747835e",
   "metadata": {},
   "outputs": [],
   "source": [
    "df = pd.read_csv(\"https://raw.githubusercontent.com/alexeygrigorev/datasets/master/laptops.csv\")"
   ]
  },
  {
   "cell_type": "code",
   "execution_count": 18,
   "id": "fd071f01-1618-4ba0-9b91-ac1dfe237e0e",
   "metadata": {},
   "outputs": [],
   "source": [
    "df.columns = df.columns.str.lower().str.replace(' ', '_')"
   ]
  },
  {
   "cell_type": "code",
   "execution_count": 19,
   "id": "ae6289bd-6450-4f51-bd0c-6cc22df279b7",
   "metadata": {},
   "outputs": [
    {
     "data": {
      "text/plain": [
       "<Axes: >"
      ]
     },
     "execution_count": 19,
     "metadata": {},
     "output_type": "execute_result"
    },
    {
     "data": {
      "image/png": "[encoded data removed]",
      "text/plain": [
       "<Figure size 640x480 with 1 Axes>"
      ]
     },
     "metadata": {},
     "output_type": "display_data"
    }
   ],
   "source": [
    "df[\"final_price\"].hist()"
   ]
  },
  {
   "cell_type": "markdown",
   "id": "4e9fe449-ac09-431b-a519-bfb6b8c2d0c0",
   "metadata": {},
   "source": [
    "# EDA \n",
    "Kind of a long taill "
   ]
  },
  {
   "cell_type": "code",
   "execution_count": 20,
   "id": "e48d8f33-a186-449c-bae0-9f7e2a69499a",
   "metadata": {},
   "outputs": [
    {
     "name": "stdout",
     "output_type": "stream",
     "text": [
      "<class 'pandas.core.frame.DataFrame'>\n",
      "RangeIndex: 2160 entries, 0 to 2159\n",
      "Data columns (total 4 columns):\n",
      " #   Column       Non-Null Count  Dtype  \n",
      "---  ------       --------------  -----  \n",
      " 0   ram          2160 non-null   int64  \n",
      " 1   storage      2160 non-null   int64  \n",
      " 2   screen       2156 non-null   float64\n",
      " 3   final_price  2160 non-null   float64\n",
      "dtypes: float64(2), int64(2)\n",
      "memory usage: 67.6 KB\n"
     ]
    }
   ],
   "source": [
    "# Q1 What data is missing?\n",
    "x_df = df[[\"ram\",\"storage\",\"screen\",\"final_price\"]]\n",
    "x_df.info()"
   ]
  },
  {
   "cell_type": "markdown",
   "id": "09367b64-578e-4f83-bb1a-747c05c2b7e6",
   "metadata": {},
   "source": [
    "# Q2 \n",
    "\n",
    "What's the median (50% percentile) for variable 'ram'?"
   ]
  },
  {
   "cell_type": "code",
   "execution_count": 21,
   "id": "67763652-a916-4185-90fb-8759b22abfef",
   "metadata": {},
   "outputs": [
    {
     "data": {
      "text/plain": [
       "np.float64(16.0)"
      ]
     },
     "execution_count": 21,
     "metadata": {},
     "output_type": "execute_result"
    }
   ],
   "source": [
    "x_df.ram.median()"
   ]
  },
  {
   "cell_type": "markdown",
   "id": "81942d84-fcec-4f97-9545-02515a08782f",
   "metadata": {},
   "source": [
    "Prepare and split the dataset\n",
    "\n",
    "    Shuffle the dataset (the filtered one you created above), use seed 42.\n",
    "    Split your data in train/val/test sets, with 60%/20%/20% distribution.\n",
    "\n",
    "Use the same code as in the lectures"
   ]
  },
  {
   "cell_type": "code",
   "execution_count": 22,
   "id": "78fbf614-6577-47e4-9d03-e66045ae7c24",
   "metadata": {},
   "outputs": [],
   "source": [
    "def split_dataframe(df, val_ratio=0.2, test_ratio=0.2, random_seed=42):\n",
    "    \"\"\"\n",
    "    Splits a DataFrame into training, validation, and testing sets.\n",
    "\n",
    "    Parameters:\n",
    "    - df (pd.DataFrame): The input dataframe to be split.\n",
    "    - val_ratio (float): The ratio of data to be used for validation.\n",
    "    - test_ratio (float): The ratio of data to be used for testing.\n",
    "    - random_seed (int): The random seed for reproducibility.\n",
    "\n",
    "    Returns:\n",
    "    - df_train (pd.DataFrame): Training set.\n",
    "    - df_val (pd.DataFrame): Validation set.\n",
    "    - df_test (pd.DataFrame): Testing set.\n",
    "    \"\"\"\n",
    "    n = len(df)\n",
    "    n_val = int(n * val_ratio)\n",
    "    n_test = int(n * test_ratio)\n",
    "    n_train = n - n_val - n_test\n",
    "\n",
    "    idx = np.arange(n)\n",
    "    np.random.seed(random_seed)\n",
    "    np.random.shuffle(idx)\n",
    "\n",
    "    df_train = df.iloc[idx[:n_train]].reset_index(drop=True)\n",
    "    df_val = df.iloc[idx[n_train:n_train+n_val]].reset_index(drop=True)\n",
    "    df_test = df.iloc[idx[n_train+n_val:]].reset_index(drop=True)\n",
    "\n",
    "    return df_train, df_val, df_test"
   ]
  },
  {
   "cell_type": "code",
   "execution_count": 23,
   "id": "b5f02393-a36e-4371-8d4e-15eaeb6aa7ab",
   "metadata": {},
   "outputs": [],
   "source": [
    "df_train, df_val, df_test = split_dataframe(x_df)"
   ]
  },
  {
   "cell_type": "markdown",
   "id": "755f27ea-608d-49ad-b935-e2ccb9c8453e",
   "metadata": {},
   "source": [
    "# Question 3\n",
    "\n",
    "    1. We need to deal with missing values for the column from Q1.\n",
    "        a. We have two options: fill it with 0 or with the mean of this variable.\n",
    "        b. Try both options. For each, train a linear regression model without regularization using the code from the lessons.\n",
    "    2. For computing the mean, use the training only!\n",
    "    3. Use the validation dataset to evaluate the models and compare the RMSE of each option.\n",
    "    4. Round the RMSE scores to 2 decimal digits using round(score, 2)\n",
    "    5. Which option gives better RMSE?\n",
    "\n",
    "Options:\n",
    "\n",
    "    With 0\n",
    "    With mean\n",
    "    Both are equally good"
   ]
  },
  {
   "cell_type": "code",
   "execution_count": 33,
   "id": "16657f35-6eae-4226-98ae-294d5b1cd629",
   "metadata": {},
   "outputs": [],
   "source": [
    "def train_linear_regression(X, y):\n",
    "    ones = np.ones(X.shape[0])\n",
    "    X = np.column_stack([ones, X])\n",
    "\n",
    "    XTX = X.T.dot(X)\n",
    "    XTX_inv = np.linalg.inv(XTX)\n",
    "    w_full = XTX_inv.dot(X.T).dot(y)\n",
    "    \n",
    "    return w_full[0], w_full[1:]\n",
    "\n",
    "def rmse(y, y_pred):\n",
    "    se = (y - y_pred) ** 2\n",
    "    mse = se.mean()\n",
    "    return np.sqrt(mse)\n",
    "\n",
    "def prepare_X_zerofill(df):\n",
    "    df_num = df[base]\n",
    "    df_num = df_num.fillna(0)\n",
    "    X = df_num.values\n",
    "    return X\n",
    "\n",
    "def prepare_X_meanfill(df, mean):\n",
    "    df_num = df[base]\n",
    "    df_num = df_num[['screen']].fillna(mean)\n",
    "    X = df_num.values\n",
    "    return X\n"
   ]
  },
  {
   "cell_type": "code",
   "execution_count": 25,
   "id": "6c089aab-ff8f-4956-9754-2a80dc385659",
   "metadata": {},
   "outputs": [],
   "source": [
    "y_train = df_train.final_price.values\n",
    "y_val = df_val.final_price.values\n",
    "y_test = df_test.final_price.values\n",
    "\n",
    "del df_train['final_price']\n",
    "del df_val['final_price']\n",
    "del df_test['final_price']"
   ]
  },
  {
   "cell_type": "code",
   "execution_count": 26,
   "id": "ca1fca93-f4ae-4ea2-87f4-9d4e37f504fd",
   "metadata": {},
   "outputs": [
    {
     "data": {
      "text/plain": [
       "np.float64(597.36)"
      ]
     },
     "execution_count": 26,
     "metadata": {},
     "output_type": "execute_result"
    }
   ],
   "source": [
    "base = [\"ram\",\"storage\",\"screen\"]\n",
    "\n",
    "# Fill missing values and start with zeros \n",
    "X_train = prepare_X_zerofill(df_train)\n",
    "w0, w = train_linear_regression(X_train, y_train)\n",
    "X_val = prepare_X_zerofill(df_val)\n",
    "y_pred = w0 + X_val.dot(w)\n",
    "rmse_zero = rmse(y_val, y_pred)\n",
    "\n",
    "round(rmse_zero,2)"
   ]
  },
  {
   "cell_type": "code",
   "execution_count": 27,
   "id": "cd7e7012-ed66-48c1-9103-0971297dc115",
   "metadata": {},
   "outputs": [
    {
     "data": {
      "text/plain": [
       "<Axes: ylabel='Count'>"
      ]
     },
     "execution_count": 27,
     "metadata": {},
     "output_type": "execute_result"
    },
    {
     "data": {
      "image/png": "[encoded data removed]",
      "text/plain": [
       "<Figure size 640x480 with 1 Axes>"
      ]
     },
     "metadata": {},
     "output_type": "display_data"
    }
   ],
   "source": [
    "sns.histplot(y_pred, color='red', alpha=0.5, bins=50)\n",
    "sns.histplot(y_train, color='blue', alpha=0.5, bins=50)"
   ]
  },
  {
   "cell_type": "code",
   "execution_count": 35,
   "id": "a673a836-1a50-482c-b763-bae333c54691",
   "metadata": {},
   "outputs": [
    {
     "data": {
      "text/plain": [
       "np.float64(15.163534416086618)"
      ]
     },
     "execution_count": 35,
     "metadata": {},
     "output_type": "execute_result"
    }
   ],
   "source": [
    "df_train['screen'].mean()"
   ]
  },
  {
   "cell_type": "code",
   "execution_count": 37,
   "id": "dd712b37-3763-4c4a-98bd-5ebe8daaa75a",
   "metadata": {},
   "outputs": [
    {
     "data": {
      "text/plain": [
       "np.float64(865.48)"
      ]
     },
     "execution_count": 37,
     "metadata": {},
     "output_type": "execute_result"
    }
   ],
   "source": [
    "# Fill missing values and use the mean value\n",
    "screen_mean = df_train['screen'].mean()\n",
    "\n",
    "X_train = prepare_X_meanfill(df_train, screen_mean)\n",
    "w0, w = train_linear_regression(X_train, y_train)\n",
    "X_val = prepare_X_meanfill(df_val, screen_mean)\n",
    "y_pred = w0 + X_val.dot(w)\n",
    "rmse_mean = rmse(y_val, y_pred)\n",
    "\n",
    "round(rmse_mean,2)"
   ]
  },
  {
   "cell_type": "code",
   "execution_count": 38,
   "id": "58468dc1-c72f-46cf-b53d-d2d9a25619cd",
   "metadata": {},
   "outputs": [
    {
     "data": {
      "text/plain": [
       "<Axes: ylabel='Count'>"
      ]
     },
     "execution_count": 38,
     "metadata": {},
     "output_type": "execute_result"
    },
    {
     "data": {
      "image/png": "[encoded data removed]",
      "text/plain": [
       "<Figure size 640x480 with 1 Axes>"
      ]
     },
     "metadata": {},
     "output_type": "display_data"
    }
   ],
   "source": [
    "sns.histplot(y_pred, color='red', alpha=0.5, bins=50)\n",
    "sns.histplot(y_train, color='blue', alpha=0.5, bins=50)"
   ]
  },
  {
   "cell_type": "markdown",
   "id": "79f1cee9-538e-48c4-b37e-1ec89c3b1492",
   "metadata": {},
   "source": [
    "# Question 4\n",
    "\n",
    "    Now let's train a regularized linear regression.\n",
    "    For this question, fill the NAs with 0.\n",
    "    Try different values of r from this list: [0, 0.01, 0.1, 1, 5, 10, 100].\n",
    "    Use RMSE to evaluate the model on the validation dataset.\n",
    "    Round the RMSE scores to 2 decimal digits.\n",
    "    Which r gives the best RMSE?\n",
    "\n",
    "If there are multiple options, select the smallest r.\n",
    "\n",
    "Options:\n",
    "\n",
    "    0\n",
    "    0.01\n",
    "    1\n",
    "    10\n",
    "    100\n"
   ]
  },
  {
   "cell_type": "code",
   "execution_count": 39,
   "id": "c583ab0d-0542-4af0-92df-a42c42e60b84",
   "metadata": {},
   "outputs": [],
   "source": [
    "def train_linear_regression_reg(X, y, r=0.001):\n",
    "    ones = np.ones(X.shape[0])\n",
    "    X = np.column_stack([ones, X])\n",
    "\n",
    "    XTX = X.T.dot(X)\n",
    "    XTX = XTX + r * np.eye(XTX.shape[0])\n",
    "\n",
    "    XTX_inv = np.linalg.inv(XTX)\n",
    "    w_full = XTX_inv.dot(X.T).dot(y)\n",
    "    \n",
    "    return w_full[0], w_full[1:]"
   ]
  },
  {
   "cell_type": "code",
   "execution_count": 40,
   "id": "817fbac6-3e54-49a1-a28a-28e3c67e116a",
   "metadata": {},
   "outputs": [
    {
     "name": "stdout",
     "output_type": "stream",
     "text": [
      "0 676.8954853003995 597.3635593619622\n",
      "0.01 676.2736817205587 597.3616819856013\n",
      "0.1 670.7284836314063 597.345159296362\n",
      "1 619.9030834108207 597.2121215589519\n",
      "5 463.7771697142356 597.0111186297033\n",
      "10 352.79713367679835 597.0587680661115\n",
      "100 66.92071440181994 597.9032640603043\n"
     ]
    }
   ],
   "source": [
    "rs = [0, 0.01, 0.1, 1, 5, 10, 100]\n",
    "\n",
    "for r in rs:\n",
    "    X_train = prepare_X_zerofill(df_train)\n",
    "    w0, w = train_linear_regression_reg(X_train, y_train, r=r)\n",
    "\n",
    "    X_val = prepare_X_zerofill(df_val)\n",
    "    y_pred = w0 + X_val.dot(w)\n",
    "    score = rmse(y_val, y_pred)\n",
    "    \n",
    "    print(r, w0, score)"
   ]
  },
  {
   "cell_type": "markdown",
   "id": "3a38f178-9cdf-43ea-972f-ded221287c21",
   "metadata": {},
   "source": [
    "# Question 5\n",
    "\n",
    "    We used seed 42 for splitting the data. Let's find out how selecting the seed influences our score.\n",
    "    Try different seed values: [0, 1, 2, 3, 4, 5, 6, 7, 8, 9].\n",
    "    For each seed, do the train/validation/test split with 60%/20%/20% distribution.\n",
    "    Fill the missing values with 0 and train a model without regularization.\n",
    "    For each seed, evaluate the model on the validation dataset and collect the RMSE scores.\n",
    "    What's the standard deviation of all the scores? To compute the standard deviation, use np.std.\n",
    "    Round the result to 3 decimal digits (round(std, 3))\n"
   ]
  },
  {
   "cell_type": "code",
   "execution_count": 41,
   "id": "0ee38341-e530-4910-b568-309452659182",
   "metadata": {},
   "outputs": [
    {
     "name": "stdout",
     "output_type": "stream",
     "text": [
      "Random Seed: 0  Bias Term: 547.5696230186684  RMSE: 565.4520868771027\n",
      "Random Seed: 1  Bias Term: 594.41974279991  RMSE: 636.7985423056726\n",
      "Random Seed: 2  Bias Term: 649.4685454769078  RMSE: 588.9558697907962\n",
      "Random Seed: 3  Bias Term: 571.945904011273  RMSE: 597.8148920012521\n",
      "Random Seed: 4  Bias Term: 629.3882030645109  RMSE: 571.962791511102\n",
      "Random Seed: 5  Bias Term: 580.7647373330074  RMSE: 573.2383256618949\n",
      "Random Seed: 6  Bias Term: 783.7683689905917  RMSE: 647.3438328407208\n",
      "Random Seed: 7  Bias Term: 376.4358600624204  RMSE: 550.4398184485952\n",
      "Random Seed: 8  Bias Term: 572.8852361198617  RMSE: 587.333503616991\n",
      "Random Seed: 9  Bias Term: 663.3792792607826  RMSE: 576.1017929433108\n"
     ]
    }
   ],
   "source": [
    "seeds = [0, 1, 2, 3, 4, 5, 6, 7, 8, 9]\n",
    "scores = []\n",
    "\n",
    "for seed in seeds:\n",
    "\n",
    "    df_train, df_val, df_test = split_dataframe(x_df, random_seed=seed)\n",
    "    y_train = df_train.final_price.values\n",
    "    y_val = df_val.final_price.values\n",
    "    y_test = df_test.final_price.values\n",
    "    del df_train['final_price']\n",
    "    del df_val['final_price']\n",
    "    del df_test['final_price']\n",
    "    X_train = prepare_X_zerofill(df_train)\n",
    "    w0, w = train_linear_regression(X_train, y_train)\n",
    "\n",
    "    X_val = prepare_X_zerofill(df_val)\n",
    "    y_pred = w0 + X_val.dot(w)\n",
    "    score = rmse(y_val, y_pred)\n",
    "    scores.append(score)\n",
    "    \n",
    "    \n",
    "    print(\"Random Seed:\", seed, \" Bias Term:\", w0, \" RMSE:\",score)"
   ]
  },
  {
   "cell_type": "code",
   "execution_count": 42,
   "id": "30f4c796-4c85-42fc-a39f-3be2e5a57d37",
   "metadata": {},
   "outputs": [],
   "source": [
    "scores = np.array(scores)"
   ]
  },
  {
   "cell_type": "code",
   "execution_count": 43,
   "id": "71fcade2-7dc4-400c-9884-4ae100b40d54",
   "metadata": {},
   "outputs": [
    {
     "data": {
      "text/plain": [
       "np.float64(29.176)"
      ]
     },
     "execution_count": 43,
     "metadata": {},
     "output_type": "execute_result"
    }
   ],
   "source": [
    "round(np.std(scores),3)"
   ]
  },
  {
   "cell_type": "markdown",
   "id": "715767f1-ce95-4a71-9c10-c9b5f4760210",
   "metadata": {},
   "source": [
    "Question 6\n",
    "\n",
    "    Split the dataset like previously, use seed 9.\n",
    "    Combine train and validation datasets.\n",
    "    Fill the missing values with 0 and train a model with r=0.001.\n",
    "    What's the RMSE on the test dataset?\n",
    "\n",
    "Options:\n",
    "\n",
    "    598.60\n",
    "    608.60\n",
    "    618.60\n",
    "    628.60\n"
   ]
  },
  {
   "cell_type": "code",
   "execution_count": 44,
   "id": "b8ae1516-6e3a-4dcf-b4df-4e8f336d6db1",
   "metadata": {},
   "outputs": [
    {
     "name": "stdout",
     "output_type": "stream",
     "text": [
      "0.001 698.4247442538174 608.609982204956\n"
     ]
    }
   ],
   "source": [
    "# Split the dataset like previously, use seed 9.\n",
    "df_train, df_val, df_test = split_dataframe(x_df, random_seed=9)\n",
    "y_train = df_train.final_price.values\n",
    "y_val = df_val.final_price.values\n",
    "y_test = df_test.final_price.values\n",
    "del df_train['final_price']\n",
    "del df_val['final_price']\n",
    "del df_test['final_price']\n",
    "# Combine train and validation datasets.\n",
    "df_full_train = pd.concat([df_train, df_val]).reset_index(drop=True)\n",
    "y_full_train = np.concatenate([y_train, y_val])\n",
    "# Fill the missing values with 0 and train a model with r=0.001.\n",
    "X_full_train = prepare_X_zerofill(df_full_train)\n",
    "r=0.001\n",
    "w0, w = train_linear_regression_reg(X_full_train, y_full_train, r=r)\n",
    "\n",
    "X_test = prepare_X_zerofill(df_test)\n",
    "y_pred = w0 + X_test.dot(w)\n",
    "score = rmse(y_test, y_pred)\n",
    "score\n",
    "\n",
    "print(r, w0, score)"
   ]
  },
  {
   "cell_type": "code",
   "execution_count": null,
   "id": "11f05e73-5f0b-41eb-a29e-cc6966cdb79f",
   "metadata": {},
   "outputs": [],
   "source": []
  },
  {
   "cell_type": "code",
   "execution_count": null,
   "id": "471b8b2e-ba3b-4b9d-b8bc-a0d6dfc24ae3",
   "metadata": {},
   "outputs": [],
   "source": []
  },
  {
   "cell_type": "code",
   "execution_count": null,
   "id": "adce17c1-a7a0-45a7-9359-9d686c319ff3",
   "metadata": {},
   "outputs": [],
   "source": []
  },
  {
   "cell_type": "code",
   "execution_count": null,
   "id": "8f019ad2-1a3e-41fb-8cbc-e0e94b03c939",
   "metadata": {},
   "outputs": [],
   "source": []
  },
  {
   "cell_type": "code",
   "execution_count": null,
   "id": "898e8d5e-4319-49c3-98f7-06cf749bf887",
   "metadata": {},
   "outputs": [],
   "source": []
  }
 ],
 "metadata": {
  "kernelspec": {
   "display_name": "Python 3 (ipykernel)",
   "language": "python",
   "name": "python3"
  },
  "language_info": {
   "codemirror_mode": {
    "name": "ipython",
    "version": 3
   },
   "file_extension": ".py",
   "mimetype": "text/x-python",
   "name": "python",
   "nbconvert_exporter": "python",
   "pygments_lexer": "ipython3",
   "version": "3.12.1"
  }
 },
 "nbformat": 4,
 "nbformat_minor": 5
}
