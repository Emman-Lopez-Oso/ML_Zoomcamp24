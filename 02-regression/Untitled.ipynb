{
 "cells": [
  {
   "cell_type": "code",
   "execution_count": 1,
   "id": "e210b4d3-c17a-4fcf-93cd-e89c78872a12",
   "metadata": {},
   "outputs": [],
   "source": [
    "import pandas as pd\n",
    "import numpy as np "
   ]
  },
  {
   "cell_type": "code",
   "execution_count": 2,
   "id": "6f007123-25df-47f5-832f-ad325747835e",
   "metadata": {},
   "outputs": [],
   "source": [
    "df = pd.read_csv(\"https://raw.githubusercontent.com/alexeygrigorev/datasets/master/laptops.csv\")"
   ]
  },
  {
   "cell_type": "code",
   "execution_count": 3,
   "id": "fd071f01-1618-4ba0-9b91-ac1dfe237e0e",
   "metadata": {},
   "outputs": [],
   "source": [
    "df.columns = df.columns.str.lower().str.replace(' ', '_')"
   ]
  },
  {
   "cell_type": "code",
   "execution_count": 4,
   "id": "ae6289bd-6450-4f51-bd0c-6cc22df279b7",
   "metadata": {},
   "outputs": [
    {
     "data": {
      "text/plain": [
       "<Axes: >"
      ]
     },
     "execution_count": 4,
     "metadata": {},
     "output_type": "execute_result"
    },
    {
     "data": {
      "image/png": "[encoded data removed]",
      "text/plain": [
       "<Figure size 640x480 with 1 Axes>"
      ]
     },
     "metadata": {},
     "output_type": "display_data"
    }
   ],
   "source": [
    "df[\"final_price\"].hist()"
   ]
  },
  {
   "cell_type": "markdown",
   "id": "4e9fe449-ac09-431b-a519-bfb6b8c2d0c0",
   "metadata": {},
   "source": [
    "# EDA \n",
    "Kind of a long taill "
   ]
  },
  {
   "cell_type": "code",
   "execution_count": 5,
   "id": "e48d8f33-a186-449c-bae0-9f7e2a69499a",
   "metadata": {},
   "outputs": [
    {
     "name": "stdout",
     "output_type": "stream",
     "text": [
      "<class 'pandas.core.frame.DataFrame'>\n",
      "RangeIndex: 2160 entries, 0 to 2159\n",
      "Data columns (total 4 columns):\n",
      " #   Column       Non-Null Count  Dtype  \n",
      "---  ------       --------------  -----  \n",
      " 0   ram          2160 non-null   int64  \n",
      " 1   storage      2160 non-null   int64  \n",
      " 2   screen       2156 non-null   float64\n",
      " 3   final_price  2160 non-null   float64\n",
      "dtypes: float64(2), int64(2)\n",
      "memory usage: 67.6 KB\n"
     ]
    }
   ],
   "source": [
    "# Q1 What data is missing?\n",
    "x_df = df[[\"ram\",\"storage\",\"screen\",\"final_price\"]]\n",
    "x_df.info()"
   ]
  },
  {
   "cell_type": "markdown",
   "id": "09367b64-578e-4f83-bb1a-747c05c2b7e6",
   "metadata": {},
   "source": [
    "# Q2 \n",
    "\n",
    "What's the median (50% percentile) for variable 'ram'?"
   ]
  },
  {
   "cell_type": "code",
   "execution_count": 6,
   "id": "67763652-a916-4185-90fb-8759b22abfef",
   "metadata": {},
   "outputs": [
    {
     "data": {
      "text/plain": [
       "np.float64(16.0)"
      ]
     },
     "execution_count": 6,
     "metadata": {},
     "output_type": "execute_result"
    }
   ],
   "source": [
    "x_df.ram.median()"
   ]
  },
  {
   "cell_type": "markdown",
   "id": "81942d84-fcec-4f97-9545-02515a08782f",
   "metadata": {},
   "source": [
    "Prepare and split the dataset\n",
    "\n",
    "    Shuffle the dataset (the filtered one you created above), use seed 42.\n",
    "    Split your data in train/val/test sets, with 60%/20%/20% distribution.\n",
    "\n",
    "Use the same code as in the lectures"
   ]
  },
  {
   "cell_type": "code",
   "execution_count": 7,
   "id": "78fbf614-6577-47e4-9d03-e66045ae7c24",
   "metadata": {},
   "outputs": [],
   "source": [
    "np.random.seed(42)"
   ]
  },
  {
   "cell_type": "code",
   "execution_count": 9,
   "id": "b5f02393-a36e-4371-8d4e-15eaeb6aa7ab",
   "metadata": {},
   "outputs": [
    {
     "data": {
      "text/plain": [
       "2160"
      ]
     },
     "execution_count": 9,
     "metadata": {},
     "output_type": "execute_result"
    }
   ],
   "source": [
    "len(df)"
   ]
  },
  {
   "cell_type": "code",
   "execution_count": 12,
   "id": "1a93be57-ad93-4e5d-a9be-828c5219eb2f",
   "metadata": {},
   "outputs": [
    {
     "data": {
      "text/plain": [
       "1296"
      ]
     },
     "execution_count": 12,
     "metadata": {},
     "output_type": "execute_result"
    }
   ],
   "source": [
    "n = len(df) \n",
    "n_val = int(n*.2)\n",
    "n_test = int(n*.2)\n",
    "n_train = n - n_val - n_test\n",
    "n_train"
   ]
  },
  {
   "cell_type": "code",
   "execution_count": null,
   "id": "a5ee5625-67bd-4969-a284-f828ce829b49",
   "metadata": {},
   "outputs": [
    {
     "ename": "NameError",
     "evalue": "name 'x' is not defined",
     "output_type": "error",
     "traceback": [
      "\u001b[0;31m---------------------------------------------------------------------------\u001b[0m",
      "\u001b[0;31mNameError\u001b[0m                                 Traceback (most recent call last)",
      "Cell \u001b[0;32mIn[10], line 4\u001b[0m\n\u001b[1;32m      2\u001b[0m n_val \u001b[38;5;241m=\u001b[39m n\u001b[38;5;241m*\u001b[39m\u001b[38;5;241m.2\u001b[39m\n\u001b[1;32m      3\u001b[0m n_test \u001b[38;5;241m=\u001b[39m n\u001b[38;5;241m*\u001b[39m\u001b[38;5;241m.2\u001b[39m\n\u001b[0;32m----> 4\u001b[0m val \u001b[38;5;241m=\u001b[39m \u001b[43mx\u001b[49m ()\n\u001b[1;32m      5\u001b[0m test \u001b[38;5;241m=\u001b[39m x\n",
      "\u001b[0;31mNameError\u001b[0m: name 'x' is not defined"
     ]
    }
   ],
   "source": [
    "val = x ()\n",
    "test = x"
   ]
  },
  {
   "cell_type": "code",
   "execution_count": null,
   "id": "ca1fca93-f4ae-4ea2-87f4-9d4e37f504fd",
   "metadata": {},
   "outputs": [],
   "source": []
  },
  {
   "cell_type": "code",
   "execution_count": null,
   "id": "dd712b37-3763-4c4a-98bd-5ebe8daaa75a",
   "metadata": {},
   "outputs": [],
   "source": []
  },
  {
   "cell_type": "code",
   "execution_count": null,
   "id": "58468dc1-c72f-46cf-b53d-d2d9a25619cd",
   "metadata": {},
   "outputs": [],
   "source": []
  },
  {
   "cell_type": "code",
   "execution_count": null,
   "id": "16657f35-6eae-4226-98ae-294d5b1cd629",
   "metadata": {},
   "outputs": [],
   "source": []
  }
 ],
 "metadata": {
  "kernelspec": {
   "display_name": "Python 3 (ipykernel)",
   "language": "python",
   "name": "python3"
  },
  "language_info": {
   "codemirror_mode": {
    "name": "ipython",
    "version": 3
   },
   "file_extension": ".py",
   "mimetype": "text/x-python",
   "name": "python",
   "nbconvert_exporter": "python",
   "pygments_lexer": "ipython3",
   "version": "3.12.4"
  }
 },
 "nbformat": 4,
 "nbformat_minor": 5
}
