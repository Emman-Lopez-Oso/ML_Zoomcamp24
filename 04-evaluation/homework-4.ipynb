{
 "cells": [
  {
   "cell_type": "code",
   "execution_count": 51,
   "id": "07b22818-2ef7-475c-abc9-50a61594b4ac",
   "metadata": {},
   "outputs": [],
   "source": [
    "import zipfile\n",
    "import requests \n",
    "import numpy as np\n",
    "import pandas as pd \n",
    "import io\n",
    "import matplotlib.pyplot as plt\n"
   ]
  },
  {
   "cell_type": "code",
   "execution_count": 3,
   "id": "5d9f9651-0372-4306-a638-a19a91bfad3e",
   "metadata": {},
   "outputs": [],
   "source": [
    "#Download the zip file from the URL\n",
    "url = 'https://archive.ics.uci.edu/static/public/222/bank+marketing.zip'  \n",
    "response = requests.get(url)"
   ]
  },
  {
   "cell_type": "code",
   "execution_count": 4,
   "id": "a81e4b5d-aa65-4bb1-ab0f-e6dfa20901b9",
   "metadata": {},
   "outputs": [
    {
     "name": "stdout",
     "output_type": "stream",
     "text": [
      "Files in first folder: ['bank.zip', 'bank-additional.zip']\n",
      "Files in bank.zip: ['bank-full.csv', 'bank-names.txt', 'bank.csv']\n"
     ]
    }
   ],
   "source": [
    "with zipfile.ZipFile(io.BytesIO(response.content)) as first_folder:\n",
    "    # List all files in the zip\n",
    "    print(\"Files in first folder:\", first_folder.namelist()) \n",
    "    # Extract 'bank.zip' (the inner zip file)\n",
    "    with first_folder.open('bank.zip') as bank_zip_file:\n",
    "        # Read the 'bank.zip' (the inner zip file)\n",
    "        with zipfile.ZipFile(io.BytesIO(bank_zip_file.read())) as inner_zip:\n",
    "            # List all files in 'bank.zip' to locate 'bank-full.csv'\n",
    "            print(\"Files in bank.zip:\", inner_zip.namelist())\n",
    "            # Extract 'bank-full.csv' from the inner zip\n",
    "            with inner_zip.open('bank-full.csv') as csv_file:\n",
    "                # Step 4: Read the CSV file into a DataFrame\n",
    "                df = pd.read_csv(csv_file, delimiter=\";\")"
   ]
  },
  {
   "cell_type": "markdown",
   "id": "65aec81a-6a60-4fe4-8458-22c38f9b601f",
   "metadata": {},
   "source": [
    "# Start of Homework 4"
   ]
  },
  {
   "cell_type": "code",
   "execution_count": 5,
   "id": "730d1392-a51f-4f97-b0b1-46a4daa5f4e6",
   "metadata": {},
   "outputs": [
    {
     "name": "stdout",
     "output_type": "stream",
     "text": [
      "<class 'pandas.core.frame.DataFrame'>\n",
      "RangeIndex: 45211 entries, 0 to 45210\n",
      "Data columns (total 17 columns):\n",
      " #   Column     Non-Null Count  Dtype \n",
      "---  ------     --------------  ----- \n",
      " 0   age        45211 non-null  int64 \n",
      " 1   job        45211 non-null  object\n",
      " 2   marital    45211 non-null  object\n",
      " 3   education  45211 non-null  object\n",
      " 4   default    45211 non-null  object\n",
      " 5   balance    45211 non-null  int64 \n",
      " 6   housing    45211 non-null  object\n",
      " 7   loan       45211 non-null  object\n",
      " 8   contact    45211 non-null  object\n",
      " 9   day        45211 non-null  int64 \n",
      " 10  month      45211 non-null  object\n",
      " 11  duration   45211 non-null  int64 \n",
      " 12  campaign   45211 non-null  int64 \n",
      " 13  pdays      45211 non-null  int64 \n",
      " 14  previous   45211 non-null  int64 \n",
      " 15  poutcome   45211 non-null  object\n",
      " 16  y          45211 non-null  object\n",
      "dtypes: int64(7), object(10)\n",
      "memory usage: 5.9+ MB\n"
     ]
    }
   ],
   "source": [
    "# Doesn't look like there are any missing values \n",
    "df.info()"
   ]
  },
  {
   "cell_type": "code",
   "execution_count": 5,
   "id": "90157f36-6588-403d-bb7f-de658df189b8",
   "metadata": {},
   "outputs": [
    {
     "data": {
      "text/plain": [
       "Index(['age', 'job', 'marital', 'education', 'default', 'balance', 'housing',\n",
       "       'loan', 'contact', 'day', 'month', 'duration', 'campaign', 'pdays',\n",
       "       'previous', 'poutcome', 'y'],\n",
       "      dtype='object')"
      ]
     },
     "execution_count": 5,
     "metadata": {},
     "output_type": "execute_result"
    }
   ],
   "source": [
    "df.columns"
   ]
  },
  {
   "cell_type": "code",
   "execution_count": 6,
   "id": "db98f040-eb96-4103-9155-edaca174c7ae",
   "metadata": {},
   "outputs": [],
   "source": [
    "# use only the columns in the homework \n",
    "cols = ['age', 'job', 'marital', 'education','balance', 'housing','contact', 'day', \n",
    "        'month', 'duration', 'campaign', 'pdays','previous', 'poutcome', 'y']\n",
    "df_hw = df[cols]"
   ]
  },
  {
   "cell_type": "code",
   "execution_count": 76,
   "id": "bb9d823c-2f14-4e44-8197-b924bef73549",
   "metadata": {},
   "outputs": [
    {
     "name": "stderr",
     "output_type": "stream",
     "text": [
      "/tmp/ipykernel_6133/3351486265.py:3: SettingWithCopyWarning: \n",
      "A value is trying to be set on a copy of a slice from a DataFrame.\n",
      "Try using .loc[row_indexer,col_indexer] = value instead\n",
      "\n",
      "See the caveats in the documentation: https://pandas.pydata.org/pandas-docs/stable/user_guide/indexing.html#returning-a-view-versus-a-copy\n",
      "  df_hw['y'] = df_hw['y'].replace({'yes': 1, 'no': 0})\n"
     ]
    }
   ],
   "source": [
    "from sklearn.model_selection import train_test_split\n",
    "# Assuming your column is named 'your_column'\n",
    "df_hw['y'] = df_hw['y'].replace({'yes': 1, 'no': 0})\n",
    "\n",
    "# Create train and test out of the dataset\n",
    "df_train_full, df_test = train_test_split(df_hw, test_size=0.2, random_state=1)\n",
    "df_train, df_val = train_test_split(df_train_full, test_size=0.25, random_state=1)\n",
    "\n",
    "df_train = df_train.reset_index(drop=True)\n",
    "df_val = df_val.reset_index(drop=True)\n",
    "df_test = df_test.reset_index(drop=True)\n",
    "\n",
    "y_train = df_train.y.values\n",
    "y_train_full = df_train_full.y.values\n",
    "y_val = df_val.y.values\n",
    "y_test = df_test.y.values\n",
    "\n",
    "del df_train['y']\n",
    "del df_val['y']\n",
    "del df_test['y']"
   ]
  },
  {
   "cell_type": "markdown",
   "id": "f1ce2125-f5be-466c-90d3-1a7a9b405aab",
   "metadata": {},
   "source": [
    "### Question 1: ROC AUC feature importance\n",
    "\n",
    "ROC AUC could also be used to evaluate feature importance of numerical variables. \n",
    "\n",
    "Let's do that\n",
    "\n",
    "* For each numerical variable, use it as score (aka prediction) and compute the AUC with the `y` variable as ground truth.\n",
    "* Use the training dataset for that\n",
    "\n",
    "\n",
    "If your AUC is < 0.5, invert this variable by putting \"-\" in front\n",
    "\n",
    "(e.g. `-df_train['engine_hp']`)\n",
    "\n",
    "AUC can go below 0.5 if the variable is negatively correlated with the target variable. You can change the direction of the correlation by negating this variable - then negative correlation becomes positive.\n",
    "\n",
    "Which numerical variable (among the following 4) has the highest AUC?\n",
    "\n",
    "- `balance`\n",
    "- `day`\n",
    "- `duration`\n",
    "- `previous`\n"
   ]
  },
  {
   "cell_type": "code",
   "execution_count": 24,
   "id": "d6f6584d-bac6-43ed-9260-b27928b9da5c",
   "metadata": {},
   "outputs": [
    {
     "name": "stdout",
     "output_type": "stream",
     "text": [
      "The age column gives an AUC score of 0.48781428247265596\n",
      "The balance column gives an AUC score of 0.5888313805382317\n",
      "The day column gives an AUC score of 0.474042117616092\n",
      "The duration column gives an AUC score of 0.8147002759670778\n",
      "The campaign column gives an AUC score of 0.42854569843178414\n",
      "The pdays column gives an AUC score of 0.5901276247352144\n",
      "The previous column gives an AUC score of 0.5985653242764153\n"
     ]
    }
   ],
   "source": [
    "from sklearn.metrics import roc_auc_score, auc\n",
    "# Create categorical vs numerical columns \n",
    "cats = ['job', 'marital', 'education', 'housing','contact','month','poutcome']\n",
    "num = ['age', 'balance', 'day',  'duration', 'campaign', 'pdays','previous']\n",
    "\n",
    "for i in num:\n",
    "    print(f\"The {i} column gives an AUC score of {roc_auc_score(y_train, df_train[i].values)}\")"
   ]
  },
  {
   "cell_type": "markdown",
   "id": "e03d1225-661d-400b-b864-05f536c285c1",
   "metadata": {},
   "source": [
    "### Question 2: Training the model\n",
    "\n",
    "Apply one-hot-encoding using `DictVectorizer` and train the logistic regression with these parameters:\n",
    "\n",
    "```python\n",
    "LogisticRegression(solver='liblinear', C=1.0, max_iter=1000)\n",
    "```\n",
    "\n",
    "What's the AUC of this model on the validation dataset? (round to 3 digits)\n",
    "\n",
    "- 0.69\n",
    "- 0.79\n",
    "- 0.89\n",
    "- 0.99\n",
    "\n"
   ]
  },
  {
   "cell_type": "code",
   "execution_count": 26,
   "id": "282e9fed-583d-4a9a-a8c6-13f2613feed0",
   "metadata": {},
   "outputs": [],
   "source": [
    "from sklearn.feature_extraction import DictVectorizer\n",
    "from sklearn.linear_model import LogisticRegression"
   ]
  },
  {
   "cell_type": "code",
   "execution_count": 37,
   "id": "8b4b9e2f-78f0-4997-8483-efdab64477bd",
   "metadata": {},
   "outputs": [
    {
     "name": "stdout",
     "output_type": "stream",
     "text": [
      "[[   0 7944]\n",
      " [   1 1098]]\n"
     ]
    }
   ],
   "source": [
    "unique, counts = np.unique(y_val, return_counts=True)\n",
    "print(np.asarray((unique, counts)).T)"
   ]
  },
  {
   "cell_type": "code",
   "execution_count": null,
   "id": "db916528-2e98-45c4-bb38-9b1d4058ef1d",
   "metadata": {},
   "outputs": [],
   "source": [
    "dict_vec = DictVectorizer(sparse=False)\n",
    "\n",
    "train_dict = df_train.to_dict(orient='records')\n",
    "X_train = dict_vec.fit_transform(train_dict)\n",
    "\n",
    "val_dict = df_val.to_dict(orient='records')\n",
    "X_val = dict_vec.transform(val_dict)\n",
    "\n",
    "model = LogisticRegression(solver='liblinear', C=1.0, max_iter=1000)\n",
    "\n",
    "model.fit(X_train,y_train)"
   ]
  },
  {
   "cell_type": "code",
   "execution_count": 40,
   "id": "60ff2429-9de8-4719-a00d-d11f95ddb9d9",
   "metadata": {},
   "outputs": [
    {
     "data": {
      "text/plain": [
       "np.float64(0.9004159581551736)"
      ]
     },
     "execution_count": 40,
     "metadata": {},
     "output_type": "execute_result"
    }
   ],
   "source": [
    "# Check accuracy of model by pulling predicted labels and then calculate the auc scores\n",
    "y_pred_proba = model.predict_proba(X_val)[:,1]\n",
    "auc_score = roc_auc_score(y_val, y_pred_proba)\n",
    "auc_score"
   ]
  },
  {
   "cell_type": "markdown",
   "id": "ec2e84b5-5f53-4f87-87a9-15a1ff504812",
   "metadata": {},
   "source": [
    "### Question 3: Precision and Recall\n",
    "\n",
    "Now let's compute precision and recall for our model.\n",
    "\n",
    "* Evaluate the model on all thresholds from 0.0 to 1.0 with step 0.01\n",
    "* For each threshold, compute precision and recall\n",
    "* Plot them\n",
    "\n",
    "At which threshold precision and recall curves intersect?\n",
    "\n",
    "* 0.265\n",
    "* 0.465\n",
    "* 0.665\n",
    "* 0.865\n",
    "\n"
   ]
  },
  {
   "cell_type": "code",
   "execution_count": 46,
   "id": "b9003b54-543a-4e8b-ac86-8ca3a77e4ca8",
   "metadata": {},
   "outputs": [
    {
     "data": {
      "text/plain": [
       "array([[0.9700387 , 0.0299613 ],\n",
       "       [0.97687061, 0.02312939],\n",
       "       [0.97922592, 0.02077408],\n",
       "       ...,\n",
       "       [0.75171456, 0.24828544],\n",
       "       [0.99781261, 0.00218739],\n",
       "       [0.96219338, 0.03780662]])"
      ]
     },
     "execution_count": 46,
     "metadata": {},
     "output_type": "execute_result"
    }
   ],
   "source": [
    "y_pred"
   ]
  },
  {
   "cell_type": "code",
   "execution_count": 49,
   "id": "9f5aaf5a-fa49-4690-be0f-3c6adac54515",
   "metadata": {},
   "outputs": [],
   "source": [
    "# Do this bullshit like they do in the videos\n",
    "thresholds = np.linspace(0, 1, 101)\n",
    "\n",
    "precisions = []\n",
    "recalls = []\n",
    "\n",
    "actual_positive = (y_val == 1)\n",
    "actual_negative = (y_val == 0)\n",
    "\n",
    "for t in thresholds:\n",
    "    predict_positive = (y_pred_proba >= t)\n",
    "    predict_negative = (y_pred_proba < t)\n",
    "\n",
    "    tp = (predict_positive & actual_positive).sum()\n",
    "    tn = (predict_negative & actual_negative).sum()\n",
    "\n",
    "    fp = (predict_positive & actual_negative).sum()\n",
    "    fn = (predict_negative & actual_positive).sum()\n",
    "\n",
    "    # Avoid division by zero in precision\n",
    "    if tp + fp == 0:\n",
    "        precision = 0  # If there are no predicted positives, precision is 0\n",
    "    else:\n",
    "        precision = tp / (tp + fp)\n",
    "\n",
    "    recall = tp / (tp + fn) if tp + fn != 0 else 0  # Avoid division by zero in recall\n",
    "    \n",
    "    precisions.append(precision)\n",
    "    recalls.append(recall)"
   ]
  },
  {
   "cell_type": "code",
   "execution_count": 52,
   "id": "6973e0b1-2699-4309-ae8b-b66df353371a",
   "metadata": {},
   "outputs": [
    {
     "data": {
      "image/png": "[encoded data removed]",
      "text/plain": [
       "<Figure size 640x480 with 1 Axes>"
      ]
     },
     "metadata": {},
     "output_type": "display_data"
    }
   ],
   "source": [
    "plt.plot(thresholds, precisions, label='Precision', color='b')\n",
    "plt.plot(thresholds, recalls, label='Recall', color='g')\n",
    "plt.xlabel('Threshold')\n",
    "plt.ylabel('Score')\n",
    "plt.title('Precision and Recall vs Threshold')\n",
    "plt.legend()\n",
    "plt.grid(True)\n",
    "plt.show()"
   ]
  },
  {
   "cell_type": "markdown",
   "id": "216c568f-1075-45bd-a2fe-1953449bf51a",
   "metadata": {},
   "source": [
    "### Question 4: F1 score\n",
    "\n",
    "Precision and recall are conflicting - when one grows, the other goes down. That's why they are often combined into the F1 score - a metrics that takes into account both\n",
    "\n",
    "This is the formula for computing F1:\n",
    "\n",
    "$$F_1 = 2 \\cdot \\cfrac{P \\cdot R}{P + R}$$\n",
    "\n",
    "Where $P$ is precision and $R$ is recall.\n",
    "\n",
    "Let's compute F1 for all thresholds from 0.0 to 1.0 with increment 0.01\n",
    "\n",
    "At which threshold F1 is maximal?\n",
    "\n",
    "- 0.02\n",
    "- 0.22\n",
    "- 0.42\n",
    "- 0.62"
   ]
  },
  {
   "cell_type": "code",
   "execution_count": 68,
   "id": "3199cc66-8908-43b8-9bc7-0bebf2fb6fcc",
   "metadata": {},
   "outputs": [
    {
     "name": "stderr",
     "output_type": "stream",
     "text": [
      "/tmp/ipykernel_6133/3603231193.py:3: RuntimeWarning: invalid value encountered in divide\n",
      "  f1_scores = 2*((precisions*recalls)/(precisions+recalls))\n"
     ]
    }
   ],
   "source": [
    "precisions = np.array(precisions)\n",
    "recalls = np.array(recalls)\n",
    "f1_scores = 2*((precisions*recalls)/(precisions+recalls))"
   ]
  },
  {
   "cell_type": "code",
   "execution_count": 69,
   "id": "303c8567-9946-4cad-a856-78603e782e3e",
   "metadata": {},
   "outputs": [
    {
     "name": "stdout",
     "output_type": "stream",
     "text": [
      "For the threshold at 0.0, the F1 Score is: 0.2165680473372781\n",
      "For the threshold at 0.01, the F1 Score is: 0.23792953458025232\n",
      "For the threshold at 0.02, the F1 Score is: 0.27393483709273186\n",
      "For the threshold at 0.03, the F1 Score is: 0.3137085137085137\n",
      "For the threshold at 0.04, the F1 Score is: 0.3580288300368756\n",
      "For the threshold at 0.05, the F1 Score is: 0.401378782075833\n",
      "For the threshold at 0.06, the F1 Score is: 0.4408904257618327\n",
      "For the threshold at 0.07, the F1 Score is: 0.46939257858662253\n",
      "For the threshold at 0.08, the F1 Score is: 0.49350649350649345\n",
      "For the threshold at 0.09, the F1 Score is: 0.514145810663765\n",
      "For the threshold at 0.1, the F1 Score is: 0.5265851578049474\n",
      "For the threshold at 0.11, the F1 Score is: 0.5363961813842482\n",
      "For the threshold at 0.12, the F1 Score is: 0.5424795468848332\n",
      "For the threshold at 0.13, the F1 Score is: 0.5481967213114755\n",
      "For the threshold at 0.14, the F1 Score is: 0.5530328702134871\n",
      "For the threshold at 0.15, the F1 Score is: 0.5560975609756098\n",
      "For the threshold at 0.16, the F1 Score is: 0.5632888568337541\n",
      "For the threshold at 0.17, the F1 Score is: 0.5647668393782384\n",
      "For the threshold at 0.18, the F1 Score is: 0.5672893633244377\n",
      "For the threshold at 0.19, the F1 Score is: 0.5690802348336595\n",
      "For the threshold at 0.2, the F1 Score is: 0.568917299240911\n",
      "For the threshold at 0.21, the F1 Score is: 0.5686274509803921\n",
      "For the threshold at 0.22, the F1 Score is: 0.5728601252609603\n",
      "For the threshold at 0.23, the F1 Score is: 0.5705731394354149\n",
      "For the threshold at 0.24, the F1 Score is: 0.5644599303135889\n",
      "For the threshold at 0.25, the F1 Score is: 0.5649466192170818\n",
      "For the threshold at 0.26, the F1 Score is: 0.5599276345545002\n",
      "For the threshold at 0.27, the F1 Score is: 0.5560165975103735\n",
      "For the threshold at 0.28, the F1 Score is: 0.5542056074766356\n",
      "For the threshold at 0.29, the F1 Score is: 0.5481270744428639\n",
      "For the threshold at 0.3, the F1 Score is: 0.546595847416707\n",
      "For the threshold at 0.31, the F1 Score is: 0.5416258570029382\n",
      "For the threshold at 0.32, the F1 Score is: 0.5408618127786032\n",
      "For the threshold at 0.33, the F1 Score is: 0.5339366515837105\n",
      "For the threshold at 0.34, the F1 Score is: 0.5298013245033113\n",
      "For the threshold at 0.35000000000000003, the F1 Score is: 0.5249613998970664\n",
      "For the threshold at 0.36, the F1 Score is: 0.521603331598126\n",
      "For the threshold at 0.37, the F1 Score is: 0.5187137585661571\n",
      "For the threshold at 0.38, the F1 Score is: 0.5101387406616862\n",
      "For the threshold at 0.39, the F1 Score is: 0.5067385444743935\n",
      "For the threshold at 0.4, the F1 Score is: 0.5043668122270742\n",
      "For the threshold at 0.41000000000000003, the F1 Score is: 0.49723756906077354\n",
      "For the threshold at 0.42, the F1 Score is: 0.4930284439486894\n",
      "For the threshold at 0.43, the F1 Score is: 0.4856013551665725\n",
      "For the threshold at 0.44, the F1 Score is: 0.4806818181818181\n",
      "For the threshold at 0.45, the F1 Score is: 0.4710601719197708\n",
      "For the threshold at 0.46, the F1 Score is: 0.4682080924855492\n",
      "For the threshold at 0.47000000000000003, the F1 Score is: 0.4613583138173301\n",
      "For the threshold at 0.48, the F1 Score is: 0.45808736717827636\n",
      "For the threshold at 0.49, the F1 Score is: 0.4508050089445438\n",
      "For the threshold at 0.5, the F1 Score is: 0.4485868911605532\n",
      "For the threshold at 0.51, the F1 Score is: 0.43932038834951453\n",
      "For the threshold at 0.52, the F1 Score is: 0.4339853300733496\n",
      "For the threshold at 0.53, the F1 Score is: 0.43033292231812575\n",
      "For the threshold at 0.54, the F1 Score is: 0.4224299065420561\n",
      "For the threshold at 0.55, the F1 Score is: 0.4110970996216898\n",
      "For the threshold at 0.56, the F1 Score is: 0.4078780177890724\n",
      "For the threshold at 0.5700000000000001, the F1 Score is: 0.4038338658146965\n",
      "For the threshold at 0.58, the F1 Score is: 0.39768339768339767\n",
      "For the threshold at 0.59, the F1 Score is: 0.3909090909090909\n",
      "For the threshold at 0.6, the F1 Score is: 0.380327868852459\n",
      "For the threshold at 0.61, the F1 Score is: 0.37375745526838966\n",
      "For the threshold at 0.62, the F1 Score is: 0.36715620827770357\n",
      "For the threshold at 0.63, the F1 Score is: 0.3620457604306864\n",
      "For the threshold at 0.64, the F1 Score is: 0.35835023664638266\n",
      "For the threshold at 0.65, the F1 Score is: 0.3512593601089176\n",
      "For the threshold at 0.66, the F1 Score is: 0.3410958904109589\n",
      "For the threshold at 0.67, the F1 Score is: 0.3363197794624397\n",
      "For the threshold at 0.68, the F1 Score is: 0.32616238723108953\n",
      "For the threshold at 0.6900000000000001, the F1 Score is: 0.31865828092243187\n",
      "For the threshold at 0.7000000000000001, the F1 Score is: 0.3160112359550562\n",
      "For the threshold at 0.71, the F1 Score is: 0.30671378091872786\n",
      "For the threshold at 0.72, the F1 Score is: 0.30156472261735423\n",
      "For the threshold at 0.73, the F1 Score is: 0.2967741935483871\n",
      "For the threshold at 0.74, the F1 Score is: 0.291907514450867\n",
      "For the threshold at 0.75, the F1 Score is: 0.2796795338674436\n",
      "For the threshold at 0.76, the F1 Score is: 0.26676492262343404\n",
      "For the threshold at 0.77, the F1 Score is: 0.25744047619047616\n",
      "For the threshold at 0.78, the F1 Score is: 0.24962630792227208\n",
      "For the threshold at 0.79, the F1 Score is: 0.23795180722891568\n",
      "For the threshold at 0.8, the F1 Score is: 0.22543792840822546\n",
      "For the threshold at 0.81, the F1 Score is: 0.21658986175115208\n",
      "For the threshold at 0.8200000000000001, the F1 Score is: 0.20588235294117646\n",
      "For the threshold at 0.8300000000000001, the F1 Score is: 0.19672131147540983\n",
      "For the threshold at 0.84, the F1 Score is: 0.19055118110236222\n",
      "For the threshold at 0.85, the F1 Score is: 0.1782020684168656\n",
      "For the threshold at 0.86, the F1 Score is: 0.1670682730923695\n",
      "For the threshold at 0.87, the F1 Score is: 0.15584415584415584\n",
      "For the threshold at 0.88, the F1 Score is: 0.1454248366013072\n",
      "For the threshold at 0.89, the F1 Score is: 0.1353135313531353\n",
      "For the threshold at 0.9, the F1 Score is: 0.12656119900083262\n",
      "For the threshold at 0.91, the F1 Score is: 0.11409395973154363\n",
      "For the threshold at 0.92, the F1 Score is: 0.10152284263959392\n",
      "For the threshold at 0.93, the F1 Score is: 0.08710503842869344\n",
      "For the threshold at 0.9400000000000001, the F1 Score is: 0.07731958762886597\n",
      "For the threshold at 0.9500000000000001, the F1 Score is: 0.06914433880726016\n",
      "For the threshold at 0.96, the F1 Score is: 0.05240174672489083\n",
      "For the threshold at 0.97, the F1 Score is: 0.043936731107205626\n",
      "For the threshold at 0.98, the F1 Score is: 0.03720106288751107\n",
      "For the threshold at 0.99, the F1 Score is: 0.019748653500897665\n",
      "For the threshold at 1.0, the F1 Score is: nan\n"
     ]
    }
   ],
   "source": [
    "\n",
    "for index,value in enumerate(np.linspace(0, 1, 101)):\n",
    "    print(f\"For the threshold at {value}, the F1 Score is: {f1_scores[index]}\")"
   ]
  },
  {
   "cell_type": "markdown",
   "id": "9b144df0-cbf5-4c8c-a36d-f9c8fc4665db",
   "metadata": {},
   "source": [
    "#### For the threshold at 0.02, the F1 Score is: 0.27393483709273186\n",
    "#### For the threshold at 0.22, the F1 Score is: 0.5728601252609603\n",
    "#### For the threshold at 0.42, the F1 Score is: 0.4930284439486894\n",
    "#### For the threshold at 0.62, the F1 Score is: 0.36715620827770357"
   ]
  },
  {
   "cell_type": "markdown",
   "id": "557eb2a6-9c8c-4325-9a42-ef691e7a3bf3",
   "metadata": {},
   "source": [
    "### Question 5: 5-Fold CV\n",
    "\n",
    "\n",
    "Use the `KFold` class from Scikit-Learn to evaluate our model on 5 different folds:\n",
    "\n",
    "```\n",
    "KFold(n_splits=5, shuffle=True, random_state=1)\n",
    "```\n",
    "\n",
    "* Iterate over different folds of `df_full_train`\n",
    "* Split the data into train and validation\n",
    "* Train the model on train with these parameters: `LogisticRegression(solver='liblinear', C=1.0, max_iter=1000)`\n",
    "* Use AUC to evaluate the model on validation\n",
    "\n",
    "How large is standard deviation of the scores across different folds?\n",
    "\n",
    "- 0.0001\n",
    "- 0.006\n",
    "- 0.06\n",
    "- 0.26"
   ]
  },
  {
   "cell_type": "code",
   "execution_count": 73,
   "id": "2b82b599-58ab-4433-8350-80bcb44586c4",
   "metadata": {},
   "outputs": [],
   "source": [
    "from sklearn.model_selection import KFold\n",
    "k_fold = KFold(n_splits=5, shuffle=True, random_state=1)\n",
    "model = LogisticRegression(solver='liblinear', C=1.0, max_iter=1000)\n",
    "\n",
    "# initialize empty list for auc scores\n",
    "auc_scores = []"
   ]
  },
  {
   "cell_type": "code",
   "execution_count": 80,
   "id": "c66df6e0-c82d-448e-911a-878162cd9018",
   "metadata": {},
   "outputs": [],
   "source": [
    "# Iterate over the folds\n",
    "for train_idx, val_idx in k_fold.split(df_train_full):\n",
    "    # Split the dataset into training and validation sets\n",
    "    df_train = df_train_full.iloc[train_idx]\n",
    "    df_val = df_train_full.iloc[val_idx]\n",
    "    # Grab the target variables\n",
    "    y_train = df_train.y.values\n",
    "    y_val = df_val.y.values\n",
    "    # create dictionary vectorizer for our data and drop the y variable\n",
    "    dict_vec = DictVectorizer(sparse=False)\n",
    "    train_dict = df_train.drop(columns=['y']).to_dict(orient='records')\n",
    "    val_dict = df_val.drop(columns=['y']).to_dict(orient='records')\n",
    "    # fit vectorizer over data \n",
    "    X_train = dict_vec.fit_transform(train_dict)\n",
    "    X_val = dict_vec.transform(val_dict)\n",
    "    # train the model\n",
    "    model.fit(X_train, y_train)\n",
    "    # Get the predicted probabilities for the positive class\n",
    "    y_pred_proba = model.predict_proba(X_val)[:, 1]\n",
    "    # Compute the AUC score\n",
    "    auc = roc_auc_score(y_val, y_pred_proba)\n",
    "    # Store the AUC score for this fold\n",
    "    auc_scores.append(auc)\n"
   ]
  },
  {
   "cell_type": "code",
   "execution_count": 82,
   "id": "6c4a7e87-b018-4533-8c94-8283854fa865",
   "metadata": {},
   "outputs": [
    {
     "name": "stdout",
     "output_type": "stream",
     "text": [
      "AUC scores across 5 folds: [np.float64(0.8992842405563055), np.float64(0.8990110164487815), np.float64(0.9111641244449282), np.float64(0.9078905031338849), np.float64(0.9119728949040351)]\n",
      "Mean AUC: 0.906\n",
      "Standard deviation of AUC: 0.006\n"
     ]
    }
   ],
   "source": [
    "mean_auc = np.mean(auc_scores)\n",
    "std_auc = np.std(auc_scores)\n",
    "\n",
    "print(f'AUC scores across 5 folds: {auc_scores}')\n",
    "print(f'Mean AUC: {mean_auc:.3f}')\n",
    "print(f'Standard deviation of AUC: {std_auc:.3f}')"
   ]
  },
  {
   "cell_type": "markdown",
   "id": "f0f60884-8183-47bc-bdd0-8fdef303fada",
   "metadata": {},
   "source": [
    "### Question 6: Hyperparameter Tuning\n",
    "\n",
    "Now let's use 5-Fold cross-validation to find the best parameter `C`\n",
    "\n",
    "* Iterate over the following `C` values: `[0.000001, 0.001, 1]`\n",
    "* Initialize `KFold` with the same parameters as previously\n",
    "* Use these parameters for the model: `LogisticRegression(solver='liblinear', C=C, max_iter=1000)`\n",
    "* Compute the mean score as well as the std (round the mean and std to 3 decimal digits)\n",
    "\n",
    "Which `C` leads to the best mean score?\n",
    "\n",
    "- 0.000001\n",
    "- 0.001\n",
    "- 1\n",
    "\n",
    "If you have ties, select the score with the lowest std. If you still have ties, select the smallest `C`.\n"
   ]
  },
  {
   "cell_type": "code",
   "execution_count": 85,
   "id": "6efb2536-fd20-4cfb-84c5-72d10afca350",
   "metadata": {},
   "outputs": [],
   "source": [
    "from tqdm.auto import tqdm"
   ]
  },
  {
   "cell_type": "code",
   "execution_count": 90,
   "id": "4e50d638-12c8-434c-bf7f-6f1cca93c868",
   "metadata": {},
   "outputs": [],
   "source": [
    "def train(df_train, y_train, C=1.0):\n",
    "    dicts = df_train[cats + num].to_dict(orient='records')\n",
    "\n",
    "    dv = DictVectorizer(sparse=False)\n",
    "    X_train = dv.fit_transform(dicts)\n",
    "\n",
    "    model = LogisticRegression(solver='liblinear', C=C, max_iter=1000)\n",
    "    model.fit(X_train, y_train)\n",
    "    \n",
    "    return dv, model\n",
    "\n",
    "def predict(df, dv, model):\n",
    "    dicts = df[cats + num].to_dict(orient='records')\n",
    "\n",
    "    X = dv.transform(dicts)\n",
    "    y_pred = model.predict_proba(X)[:, 1]\n",
    "\n",
    "    return y_pred"
   ]
  },
  {
   "cell_type": "code",
   "execution_count": 91,
   "id": "da419fb1-bd80-4054-943a-b8198e9605f5",
   "metadata": {},
   "outputs": [
    {
     "name": "stdout",
     "output_type": "stream",
     "text": [
      "C=1e-06 0.701 +- 0.009\n",
      "C=0.001 0.861 +- 0.007\n",
      "C=1 0.906 +- 0.006\n"
     ]
    }
   ],
   "source": [
    "n_splits = 5\n",
    "\n",
    "for C in [0.000001, 0.001, 1]:\n",
    "    kfold = KFold(n_splits=n_splits, shuffle=True, random_state=1)\n",
    "\n",
    "    scores = []\n",
    "\n",
    "    for train_idx, val_idx in kfold.split(df_train_full):\n",
    "        df_train = df_train_full.iloc[train_idx]\n",
    "        df_val = df_train_full.iloc[val_idx]\n",
    "\n",
    "        y_train = df_train.y.values\n",
    "        y_val = df_val.y.values\n",
    "\n",
    "        dv, model = train(df_train, y_train, C=C)\n",
    "        y_pred = predict(df_val, dv, model)\n",
    "\n",
    "        auc = roc_auc_score(y_val, y_pred)\n",
    "        scores.append(auc)\n",
    "\n",
    "    print('C=%s %.3f +- %.3f' % (C, np.mean(scores), np.std(scores)))"
   ]
  },
  {
   "cell_type": "code",
   "execution_count": null,
   "id": "857f2209-363c-4cd2-8975-96c739798b5c",
   "metadata": {},
   "outputs": [],
   "source": []
  }
 ],
 "metadata": {
  "kernelspec": {
   "display_name": "Python 3 (ipykernel)",
   "language": "python",
   "name": "python3"
  },
  "language_info": {
   "codemirror_mode": {
    "name": "ipython",
    "version": 3
   },
   "file_extension": ".py",
   "mimetype": "text/x-python",
   "name": "python",
   "nbconvert_exporter": "python",
   "pygments_lexer": "ipython3",
   "version": "3.12.1"
  }
 },
 "nbformat": 4,
 "nbformat_minor": 5
}
